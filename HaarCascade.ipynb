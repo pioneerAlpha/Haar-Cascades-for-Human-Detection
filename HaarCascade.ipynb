{
 "cells": [
  {
   "cell_type": "markdown",
   "metadata": {},
   "source": [
    "# People detection"
   ]
  },
  {
   "cell_type": "code",
   "execution_count": 1,
   "metadata": {},
   "outputs": [
    {
     "name": "stdout",
     "output_type": "stream",
     "text": [
      "Elapsed Time: 2.7660560607910156\n",
      "Elapsed Time: 0.27825474739074707\n",
      "Elapsed Time: 0.4348323345184326\n",
      "Elapsed Time: 0.5754554271697998\n",
      "Elapsed Time: 0.2642934322357178\n",
      "Elapsed Time: 0.23038625717163086\n",
      "Elapsed Time: 0.4637572765350342\n",
      "Elapsed Time: 0.25331974029541016\n",
      "Elapsed Time: 0.23038172721862793\n",
      "Elapsed Time: 0.229384183883667\n",
      "Elapsed Time: 0.22042107582092285\n",
      "Elapsed Time: 0.24733710289001465\n",
      "Elapsed Time: 0.2184591293334961\n",
      "Elapsed Time: 0.2513284683227539\n",
      "Elapsed Time: 0.24634003639221191\n",
      "Elapsed Time: 0.2513282299041748\n",
      "Elapsed Time: 0.23038458824157715\n",
      "Elapsed Time: 0.26728248596191406\n"
     ]
    }
   ],
   "source": [
    "import cv2\n",
    "import time\n",
    "\n",
    "person_cascade = cv2.CascadeClassifier('archive/haarcascade_frontalface_default.xml')\n",
    "#cap = cv2.VideoCapture('People .mkv') # for video\n",
    "cap = cv2.VideoCapture(0) # webcam video\n",
    "\n",
    "img_index = 0\n",
    "while True:\n",
    "    r, frame = cap.read()\n",
    "    if r:\n",
    "        start_time = time.time()\n",
    "        frame = cv2.resize(frame,(640,360)) # Downscale to improve frame rate\n",
    "        gray_frame = cv2.cvtColor(frame, cv2.COLOR_RGB2GRAY) # Haar-cascade classifier needs a grayscale image\n",
    "        rects = person_cascade.detectMultiScale(gray_frame)\n",
    "        \n",
    "        end_time = time.time()\n",
    "        print(\"Elapsed Time:\",end_time-start_time)\n",
    "            \n",
    "        for (x, y, w, h) in rects:\n",
    "            cv2.rectangle(frame, (x,y), (x+w,y+h),(0,255,0),2)\n",
    "        cv2.imshow(\"preview\", frame)\n",
    "        #cv2.imwrite('img/img'+str(img_index)+'.jpg',frame)\n",
    "        img_index += 1\n",
    "    k = cv2.waitKey(1)\n",
    "    if k & 0xFF == ord(\"q\"): # Exit condition\n",
    "        break"
   ]
  },
  {
   "cell_type": "code",
   "execution_count": null,
   "metadata": {},
   "outputs": [],
   "source": []
  }
 ],
 "metadata": {
  "kernelspec": {
   "display_name": "Python 3",
   "language": "python",
   "name": "python3"
  },
  "language_info": {
   "codemirror_mode": {
    "name": "ipython",
    "version": 3
   },
   "file_extension": ".py",
   "mimetype": "text/x-python",
   "name": "python",
   "nbconvert_exporter": "python",
   "pygments_lexer": "ipython3",
   "version": "3.7.1"
  }
 },
 "nbformat": 4,
 "nbformat_minor": 4
}
